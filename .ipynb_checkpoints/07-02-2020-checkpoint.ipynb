{
 "cells": [
  {
   "cell_type": "markdown",
   "metadata": {},
   "source": [
    "### Python OOPs Concepts:\n",
    "- Python is an object-oriented programming language. It allows us to develop applications using an Object Oriented approach. In Python, we can easily create and use classes and objects.\n",
    "\n",
    "    - Major principles of object-oriented programming system are given below.\n",
    "\n",
    "        - Object\n",
    "        - Class\n",
    "        - Method\n",
    "        - Inheritance\n",
    "        - Polymorphism\n",
    "        - Data Abstraction\n",
    "        - Encapsulation\n",
    "        \n",
    "#### Object:\n",
    "\n",
    "- The object is an entity that has state and behavior. It may be any real-world object like the mouse, keyboard, chair, table, pen, etc.\n",
    "- Everything in Python is an object, and almost everything has attributes and methods\n",
    "\n",
    "#### Class:\n",
    "\n",
    "- The class can be defined as a collection of objects. It is a logical entity that has some specific attributes and methods. For example: if you have an employee class then it should contain an attribute and method, i.e. an email id, name, age, salary, etc.\n",
    "\n",
    "    - class ClassName:   \n",
    "            statement-1   \n",
    "            .   \n",
    "            .    \n",
    "            statement-N\n",
    "            \n",
    "#### Method: \n",
    "\n",
    "- The method is a function that is associated with an object. In Python, a method is not unique to class instances. Any object type can have methods.\n",
    "\n",
    "#### Inheritance\n",
    "\n",
    "- Inheritance is the most important aspect of object-oriented programming which simulates the real world concept of inheritance. It specifies that the child object acquires all the properties and behaviors of the parent object.\n",
    "\n",
    "- By using inheritance, we can create a class which uses all the properties and behavior of another class. The new class is known as a derived class or child class, and the one whose properties are acquired is known as a base class or parent class.\n",
    "\n",
    "- It provides re-usability of the code.\n",
    "\n",
    "#### Polymorphism\n",
    "\n",
    "- Poly means many and Morphs means form.we understand that one task can be performed in different ways. \n",
    "\n",
    "#### Encapsulation\n",
    "\n",
    "- Encapsulation is also an important aspect of object-oriented programming. It is used to restrict access to methods and variables.\n",
    "\n",
    "#### Data Abstraction\n",
    "\n",
    "- Data abstraction and encapsulation both are often used as synonyms. Both are nearly synonym because data abstraction is achieved through encapsulation.\n",
    "\n",
    "- Abstraction is used to hide internal details and show only functionalities.\n",
    "\n",
    "\n",
    "#### Main Points:\n",
    "\n",
    "- a class is a virtual entity and can be seen as a blueprint of an object\n",
    "- Suppose a class is a prototype of a building. A building contains all the details about the floor, doors, windows, etc. we can make as many buildings as we want, based on these details. Hence, the building can be seen as a class, and we can create as many objects of this class.\n",
    "- the object is the instance of a class. The process of creating an object can be called as instantiation.\n",
    "- a class can be created by using the keyword class followed by the class name. The syntax to create a class is given below.\n",
    "    - class ClassName:  \n",
    "          statement_suite \n",
    "          \n",
    "#### Python Constructor\n",
    "\n",
    "- A constructor is a special type of method (function) which is used to initialize the instance members of the class.\n",
    "\n",
    "- Constructors can be of two types.\n",
    "\n",
    "    - Parameterized Constructor\n",
    "    - Non-parameterized Constructor\n",
    "    \n",
    "#### Python In-built class functions:\n",
    "\n",
    "- getattr(obj,name,default)-->It is used to access the attribute of the object.\n",
    "- setattr(obj, name,value)-->It is used to set a particular value to the specific attribute of an object.\n",
    "- delattr(obj, name)-->It is used to delete a specific attribute.\n",
    "- hasattr(obj, name)-->It returns true if the object contains some specific attribute.\n",
    "\n",
    "#### Built-in class attributes:\n",
    "\n",
    "- __dict__(It provides the dictionary containing the information about the class namespace.)\n",
    "- __doc__(It contains a string which has the class documentation)\n",
    "- __name__(It is used to access the class name.)\n",
    "- __module__(It is used to access the module in which, this class is defined.)\n",
    "- __bases__(It contains a tuple including all base classes.)"
   ]
  },
  {
   "cell_type": "code",
   "execution_count": 3,
   "metadata": {},
   "outputs": [
    {
     "name": "stdout",
     "output_type": "stream",
     "text": [
      "my name is  venkatesh\n",
      "my age is  26\n",
      "my salary is  36000.0\n"
     ]
    }
   ],
   "source": [
    "class Employee:\n",
    "    def __init__(self,name,salary,age):\n",
    "        self.name=name\n",
    "        self.salary=salary\n",
    "        self.age=age\n",
    "    def details(self):\n",
    "        print('my name is ',self.name)\n",
    "        print('my age is ',self.age)\n",
    "        print('my salary is ',self.salary)\n",
    "details=Employee('venkatesh',36000.00,26)\n",
    "details.details()"
   ]
  },
  {
   "cell_type": "code",
   "execution_count": 8,
   "metadata": {},
   "outputs": [
    {
     "name": "stdout",
     "output_type": "stream",
     "text": [
      "36000.0\n"
     ]
    }
   ],
   "source": [
    "print(getattr(details,'salary'))"
   ]
  },
  {
   "cell_type": "code",
   "execution_count": 9,
   "metadata": {},
   "outputs": [],
   "source": [
    "setattr(details,'salary',33000.00)"
   ]
  },
  {
   "cell_type": "code",
   "execution_count": 10,
   "metadata": {},
   "outputs": [
    {
     "name": "stdout",
     "output_type": "stream",
     "text": [
      "33000.0\n"
     ]
    }
   ],
   "source": [
    "print(getattr(details,'salary'))"
   ]
  },
  {
   "cell_type": "code",
   "execution_count": 11,
   "metadata": {},
   "outputs": [
    {
     "name": "stdout",
     "output_type": "stream",
     "text": [
      "my name is  venkatesh\n",
      "my age is  26\n",
      "my salary is  33000.0\n"
     ]
    }
   ],
   "source": [
    "details.details()"
   ]
  },
  {
   "cell_type": "code",
   "execution_count": 12,
   "metadata": {},
   "outputs": [],
   "source": [
    "delattr(details,'age')"
   ]
  },
  {
   "cell_type": "code",
   "execution_count": 14,
   "metadata": {},
   "outputs": [],
   "source": [
    "setattr(details,'age',26)"
   ]
  },
  {
   "cell_type": "code",
   "execution_count": 15,
   "metadata": {},
   "outputs": [
    {
     "name": "stdout",
     "output_type": "stream",
     "text": [
      "my name is  venkatesh\n",
      "my age is  26\n",
      "my salary is  33000.0\n"
     ]
    }
   ],
   "source": [
    "details.details()"
   ]
  },
  {
   "cell_type": "code",
   "execution_count": 18,
   "metadata": {},
   "outputs": [
    {
     "name": "stdout",
     "output_type": "stream",
     "text": [
      "33000.0\n"
     ]
    }
   ],
   "source": [
    "print(getattr(details,'salary'))"
   ]
  },
  {
   "cell_type": "code",
   "execution_count": 22,
   "metadata": {},
   "outputs": [
    {
     "name": "stdout",
     "output_type": "stream",
     "text": [
      "True\n"
     ]
    }
   ],
   "source": [
    "print(hasattr(details,'age'))"
   ]
  },
  {
   "cell_type": "code",
   "execution_count": 29,
   "metadata": {},
   "outputs": [
    {
     "data": {
      "text/plain": [
       "'I am protected'"
      ]
     },
     "execution_count": 29,
     "metadata": {},
     "output_type": "execute_result"
    }
   ],
   "source": [
    "# Encap\n",
    "class A():\n",
    "    def __init__(self):\n",
    "        self.__priv = \"I am private\"\n",
    "        self._prot = \"I am protected\"\n",
    "        self.pub = \"I am public\"\n",
    "b=A()\n",
    "b._prot"
   ]
  },
  {
   "cell_type": "code",
   "execution_count": 30,
   "metadata": {},
   "outputs": [
    {
     "name": "stdout",
     "output_type": "stream",
     "text": [
      "5\n",
      "Harry\n",
      "37.21\n",
      "Berry\n",
      "37.21\n",
      "Tina\n",
      "37.2\n",
      "Akriti\n",
      "42\n",
      "Harsh\n",
      "39\n",
      "{'Harry': 37.21, 'Berry': 37.21, 'Tina': 37.2, 'Akriti': 42.0, 'Harsh': 39.0}\n"
     ]
    }
   ],
   "source": [
    "a=int(input())\n",
    "dict1={}\n",
    "for i in range(a):\n",
    "    name=input()\n",
    "    marks=float(input())\n",
    "    dict1[name]=marks\n",
    "min_marks=min(dict1.values())"
   ]
  },
  {
   "cell_type": "code",
   "execution_count": 37,
   "metadata": {},
   "outputs": [
    {
     "data": {
      "text/plain": [
       "[37.2, 37.21, 39.0, 42.0]"
      ]
     },
     "execution_count": 37,
     "metadata": {},
     "output_type": "execute_result"
    }
   ],
   "source": [
    "min_marks=list(dict1.values())\n",
    "d=list(set(min_marks))\n",
    "d.sort(reverse=False)\n",
    "d"
   ]
  },
  {
   "cell_type": "code",
   "execution_count": 38,
   "metadata": {},
   "outputs": [
    {
     "name": "stdout",
     "output_type": "stream",
     "text": [
      "Berry\n",
      "Harry\n"
     ]
    }
   ],
   "source": [
    "list1=[]\n",
    "for j in dict1.items():\n",
    "    if min_marks[1]==j[1]:\n",
    "        list1.append(j[0])\n",
    "list1.sort()\n",
    "for k in list1:\n",
    "    print(k)"
   ]
  },
  {
   "cell_type": "code",
   "execution_count": null,
   "metadata": {},
   "outputs": [],
   "source": []
  }
 ],
 "metadata": {
  "kernelspec": {
   "display_name": "Python 3",
   "language": "python",
   "name": "python3"
  },
  "language_info": {
   "codemirror_mode": {
    "name": "ipython",
    "version": 3
   },
   "file_extension": ".py",
   "mimetype": "text/x-python",
   "name": "python",
   "nbconvert_exporter": "python",
   "pygments_lexer": "ipython3",
   "version": "3.7.3"
  }
 },
 "nbformat": 4,
 "nbformat_minor": 2
}
