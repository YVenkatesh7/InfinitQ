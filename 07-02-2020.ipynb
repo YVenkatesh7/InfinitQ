{
 "cells": [
  {
   "cell_type": "code",
   "execution_count": 28,
   "metadata": {},
   "outputs": [
    {
     "name": "stdout",
     "output_type": "stream",
     "text": [
      "i am  venkatesh\n",
      "my employee id is  101\n"
     ]
    },
    {
     "data": {
      "text/plain": [
       "'venkatesh'"
      ]
     },
     "execution_count": 28,
     "metadata": {},
     "output_type": "execute_result"
    }
   ],
   "source": [
    "class Employee:\n",
    "    name='venkatesh'\n",
    "    id1=101\n",
    "    def details(self):\n",
    "        print('i am ',self.name)\n",
    "        print('my employee id is ',self.id1)\n",
    "object1=Employee()\n",
    "object1.details()\n",
    "Employee.name"
   ]
  },
  {
   "cell_type": "code",
   "execution_count": 27,
   "metadata": {},
   "outputs": [
    {
     "name": "stdout",
     "output_type": "stream",
     "text": [
      "animal name dog\n",
      "abinal collor white\n",
      "animal sound barking\n"
     ]
    }
   ],
   "source": [
    "class animal:\n",
    "    def details(self,name,color,sound):\n",
    "        print('animal name',name)\n",
    "        print('abinal collor',color)\n",
    "        print('animal sound',sound)\n",
    "object2=animal()\n",
    "object2.details('dog','white','barking')\n"
   ]
  },
  {
   "cell_type": "code",
   "execution_count": 31,
   "metadata": {},
   "outputs": [
    {
     "name": "stdout",
     "output_type": "stream",
     "text": [
      "instance variable name dileep\n",
      "class variable emp name venkatesh\n",
      "instance variable salry 36000.0\n",
      "calss varibale emp id 102\n"
     ]
    },
    {
     "data": {
      "text/plain": [
       "102"
      ]
     },
     "execution_count": 31,
     "metadata": {},
     "output_type": "execute_result"
    }
   ],
   "source": [
    "class Employee1:\n",
    "    ename='venkatesh'\n",
    "    eid=102\n",
    "    def display(self,name,salry):\n",
    "        print('instance variable name',name)\n",
    "        print('class variable emp name',self.ename)\n",
    "        print('instance variable salry',salry)\n",
    "        print('calss varibale emp id',self.eid)\n",
    "data=Employee1()\n",
    "data.display('dileep',36000.00)\n",
    "print(Employee1.ename)\n",
    "print(Employee1.eid)\n",
    "        "
   ]
  },
  {
   "cell_type": "markdown",
   "metadata": {},
   "source": [
    "### Python OOPs Concepts:\n",
    "- Python is an object-oriented programming language. It allows us to develop applications using an Object Oriented approach. In Python, we can easily create and use classes and objects.\n",
    "\n",
    "    - Major principles of object-oriented programming system are given below.\n",
    "\n",
    "        - Object\n",
    "        - Class\n",
    "        - Method\n",
    "        - Inheritance\n",
    "        - Polymorphism\n",
    "        - Data Abstraction\n",
    "        - Encapsulation\n",
    "        \n",
    "#### Object:\n",
    "\n",
    "- The object is an entity that has state and behavior. It may be any real-world object like the mouse, keyboard, chair, table, pen, etc.\n",
    "- Everything in Python is an object, and almost everything has attributes and methods\n",
    "\n",
    "#### Class:\n",
    "\n",
    "- The class can be defined as a collection of objects. It is a logical entity that has some specific attributes and methods. For example: if you have an employee class then it should contain an attribute and method, i.e. an email id, name, age, salary, etc.\n",
    "\n",
    "    - class ClassName:   \n",
    "            statement-1   \n",
    "            .   \n",
    "            .    \n",
    "            statement-N\n",
    "            \n",
    "#### Method: \n",
    "\n",
    "- The method is a function that is associated with an object. In Python, a method is not unique to class instances. Any object type can have methods.\n",
    "\n",
    "#### Inheritance\n",
    "\n",
    "- Inheritance is the most important aspect of object-oriented programming which simulates the real world concept of inheritance. It specifies that the child object acquires all the properties and behaviors of the parent object.\n",
    "\n",
    "- By using inheritance, we can create a class which uses all the properties and behavior of another class. The new class is known as a derived class or child class, and the one whose properties are acquired is known as a base class or parent class.\n",
    "\n",
    "- It provides re-usability of the code.\n",
    "\n",
    "\n",
    "#### Encapsulation\n",
    "\n",
    "- Encapsulation is also an important aspect of object-oriented programming. It is used to restrict access to methods and variables.\n",
    "\n",
    "#### Data Abstraction\n",
    "\n",
    "- Data abstraction and encapsulation both are often used as synonyms. Both are nearly synonym because data abstraction is achieved through encapsulation.\n",
    "\n",
    "- Abstraction is used to hide internal details and show only functionalities.\n",
    "\n",
    "\n",
    "#### Main Points:\n",
    "\n",
    "- a class is a virtual entity and can be seen as a blueprint of an object\n",
    "- Suppose a class is a prototype of a building. A building contains all the details about the floor, doors, windows, etc. we can make as many buildings as we want, based on these details. Hence, the building can be seen as a class, and we can create as many objects of this class.\n",
    "- the object is the instance of a class. The process of creating an object can be called as instantiation.\n",
    "- a class can be created by using the keyword class followed by the class name. The syntax to create a class is given below.\n",
    "    - class ClassName:  \n",
    "          statement_suite \n",
    "          \n",
    "#### Python Constructor\n",
    "\n",
    "- A constructor is a special type of method (function) which is used to initialize the instance members of the class.\n",
    "\n",
    "- Constructors can be of two types.\n",
    "\n",
    "    - Parameterized Constructor\n",
    "    - Non-parameterized Constructor\n",
    "    \n",
    "#### Python In-built class functions:\n",
    "\n",
    "- getattr(obj,name,default)-->It is used to access the attribute of the object.\n",
    "- setattr(obj, name,value)-->It is used to set a particular value to the specific attribute of an object.\n",
    "- delattr(obj, name)-->It is used to delete a specific attribute.\n",
    "- hasattr(obj, name)-->It returns true if the object contains some specific attribute.\n",
    "\n",
    "#### Built-in class attributes:\n",
    "\n",
    "- __dict__(It provides the dictionary containing the information about the class namespace.)\n",
    "- __doc__(It contains a string which has the class documentation)\n",
    "- __name__(It is used to access the class name.)\n",
    "- __module__(It is used to access the module in which, this class is defined.)\n",
    "- __bases__(It contains a tuple including all base classes.)"
   ]
  },
  {
   "cell_type": "markdown",
   "metadata": {},
   "source": [
    "#### Class,Object and method(function)"
   ]
  },
  {
   "cell_type": "code",
   "execution_count": 16,
   "metadata": {},
   "outputs": [
    {
     "name": "stdout",
     "output_type": "stream",
     "text": [
      "age is 23 and name is ayush\n"
     ]
    }
   ],
   "source": [
    "class Employee:  \n",
    "    id1 = 23  \n",
    "    name = \"ayush\"  \n",
    "    def display (self):  \n",
    "        print('age is',self.id1,'and name is',self.name)\n",
    "#here object is the details and class name is Employee\n",
    "details=Employee()\n",
    "# disply the method using object\n",
    "details.display()"
   ]
  },
  {
   "cell_type": "code",
   "execution_count": null,
   "metadata": {},
   "outputs": [],
   "source": []
  },
  {
   "cell_type": "code",
   "execution_count": null,
   "metadata": {},
   "outputs": [],
   "source": []
  },
  {
   "cell_type": "markdown",
   "metadata": {},
   "source": [
    "#### Inheritance(base class and derived class)\n"
   ]
  },
  {
   "cell_type": "code",
   "execution_count": 32,
   "metadata": {},
   "outputs": [
    {
     "name": "stdout",
     "output_type": "stream",
     "text": [
      "Animal Speaking\n",
      "Animal is black color\n",
      "dog barking\n"
     ]
    }
   ],
   "source": [
    "class Animal:  # Animal is the base class\n",
    "    def speak(self):  \n",
    "        print(\"Animal Speaking\")\n",
    "    def color(self):\n",
    "        print('Animal is black color')\n",
    "#child class Dog inherits from the base class Animal  \n",
    "class Dog(Animal):\n",
    "    def bark(self):  \n",
    "        print(\"dog barking\")  \n",
    "d=Dog()\n",
    "d.speak()\n",
    "d.color()\n",
    "d.bark()"
   ]
  },
  {
   "cell_type": "code",
   "execution_count": null,
   "metadata": {},
   "outputs": [],
   "source": [
    "class Parents:\n",
    "    def mother(self):\n",
    "        print('mother')\n",
    "    def father(self)\n",
    "        print('father')\n",
    "class child(Parents):\n",
    "    def son(self):\n",
    "        print('son')\n",
    "    def daughter(self):\n",
    "        print(daughter)\n",
    "class subchild(child):\n",
    "    def soninlaw(self):\n",
    "        print('son_in_law')\n",
    "data=subchild()\n",
    "data.father()\n",
    "data.mother()\n",
    "data.son()\n",
    "data.daughter()\n",
    "data.soninlaw()"
   ]
  },
  {
   "cell_type": "code",
   "execution_count": null,
   "metadata": {},
   "outputs": [],
   "source": [
    "class father:\n",
    "    def fathername(self):\n",
    "        print('father name is ......')\n",
    "class mother:\n",
    "    def mothername(self):\n",
    "        print('mother name is ......')\n",
    "class child(father,mother):\n",
    "    def childname(self):\n",
    "        print('i am .......')\n",
    "details=child()\n",
    "details.fathername()\n",
    "details.mothername()\n",
    "details.childname()"
   ]
  },
  {
   "cell_type": "code",
   "execution_count": null,
   "metadata": {},
   "outputs": [],
   "source": []
  },
  {
   "cell_type": "markdown",
   "metadata": {},
   "source": [
    "#### Python Multi-Level inheritance"
   ]
  },
  {
   "cell_type": "code",
   "execution_count": null,
   "metadata": {},
   "outputs": [],
   "source": [
    "class Animal:  \n",
    "    def speak(self):  \n",
    "        print(\"Animal Speaking\")  \n",
    "#The child class Dog inherits the base class Animal  \n",
    "class Dog(Animal):  \n",
    "    def bark(self):  \n",
    "        print(\"dog barking\")  \n",
    "#The child class Dogchild inherits another child class Dog  \n",
    "class DogChild(Dog):  \n",
    "    def eat(self):  \n",
    "        print(\"Eating bread...\")  \n",
    "d = DogChild()  \n",
    "d.bark()  \n",
    "d.speak()  \n",
    "d.eat()  "
   ]
  },
  {
   "cell_type": "code",
   "execution_count": null,
   "metadata": {},
   "outputs": [],
   "source": []
  },
  {
   "cell_type": "code",
   "execution_count": null,
   "metadata": {},
   "outputs": [],
   "source": []
  },
  {
   "cell_type": "markdown",
   "metadata": {},
   "source": [
    "#### Python Multiple inheritance"
   ]
  },
  {
   "cell_type": "code",
   "execution_count": null,
   "metadata": {},
   "outputs": [],
   "source": [
    "class Calculation1:  \n",
    "    def Summation(self,a,b):  \n",
    "        return a+b;  \n",
    "class Calculation2:  \n",
    "    def Multiplication(self,a,b):  \n",
    "        return a*b;  \n",
    "class Derived(Calculation1,Calculation2):  \n",
    "    def Divide(self,a,b):  \n",
    "        return a/b;  \n",
    "d = Derived()  \n",
    "print(d.Summation(10,20))  \n",
    "print(d.Multiplication(10,20))  \n",
    "print(d.Divide(10,20)) "
   ]
  },
  {
   "cell_type": "code",
   "execution_count": null,
   "metadata": {},
   "outputs": [],
   "source": []
  },
  {
   "cell_type": "code",
   "execution_count": null,
   "metadata": {},
   "outputs": [],
   "source": []
  },
  {
   "cell_type": "markdown",
   "metadata": {},
   "source": [
    "#### Parameterized Constructor"
   ]
  },
  {
   "cell_type": "code",
   "execution_count": 38,
   "metadata": {},
   "outputs": [
    {
     "name": "stdout",
     "output_type": "stream",
     "text": [
      "employee name  venkatesh\n",
      "employee id  101\n",
      "employee email  venky@gmail.com\n",
      "Student name  sai\n",
      "Student id  102\n",
      "Student email  sai@gmail.com\n"
     ]
    }
   ],
   "source": [
    "class Details:\n",
    "    def __init__(self,ename,sname,eid,sid,eemail,semail):\n",
    "        self.ename=ename\n",
    "        self.eid=eid\n",
    "        self.eemail=eemail\n",
    "        self.sname=sname\n",
    "        self.sid=sid\n",
    "        self.semail=semail\n",
    "    def Employee(self):\n",
    "        print('employee name ',self.ename)\n",
    "        print('employee id ',self.eid)\n",
    "        print('employee email ',self.eemail)\n",
    "    def Student(self):\n",
    "        print('Student name ',self.sname)\n",
    "        print('Student id ',self.sid)\n",
    "        print('Student email ',self.semail)\n",
    "data=Details('venkatesh','sai',101,102,'venky@gmail.com','sai@gmail.com')\n",
    "data.Employee()\n",
    "data.Student()"
   ]
  },
  {
   "cell_type": "code",
   "execution_count": 39,
   "metadata": {},
   "outputs": [
    {
     "name": "stdout",
     "output_type": "stream",
     "text": [
      "employee name  venkatesh\n",
      "employee id  101\n",
      "employee email  venkatesh@gmail.com\n",
      "Student name  sai\n",
      "Student id  104\n",
      "Student email  sai@gmail.com\n"
     ]
    }
   ],
   "source": [
    "class Details:\n",
    "    def __init__(self):\n",
    "        pass\n",
    "    def Employee(self,ename,eid,eemail):\n",
    "        print('employee name ',ename)\n",
    "        print('employee id ',eid)\n",
    "        print('employee email ',eemail)\n",
    "    def Student(self,sname,sid,semail):\n",
    "        print('Student name ',sname)\n",
    "        print('Student id ',sid)\n",
    "        print('Student email ',semail)\n",
    "data=Details()\n",
    "data.Employee('venkatesh',101,'venkatesh@gmail.com')\n",
    "data.Student('sai',104,'sai@gmail.com')"
   ]
  },
  {
   "cell_type": "markdown",
   "metadata": {},
   "source": [
    "#### Non-Parameterized Constructor"
   ]
  },
  {
   "cell_type": "code",
   "execution_count": 10,
   "metadata": {},
   "outputs": [
    {
     "name": "stdout",
     "output_type": "stream",
     "text": [
      "non parameterzide constructor\n",
      "my name is  venkatesh\n",
      "my age is  36000.0\n",
      "my salary is  26\n"
     ]
    }
   ],
   "source": [
    "\n",
    "class Employee:\n",
    "    def __init__(self):\n",
    "        print('non parameterzide constructor')\n",
    "    def details(self,name,age,salary):\n",
    "        print('my name is ',name)\n",
    "        print('my age is ',age)\n",
    "        print('my salary is ',salary)\n",
    "details=Employee()\n",
    "details.details('venkatesh',36000.00,26)"
   ]
  },
  {
   "cell_type": "markdown",
   "metadata": {},
   "source": [
    "#### Built in Class Functions"
   ]
  },
  {
   "cell_type": "code",
   "execution_count": 46,
   "metadata": {},
   "outputs": [
    {
     "data": {
      "text/plain": [
       "30000.0"
      ]
     },
     "execution_count": 46,
     "metadata": {},
     "output_type": "execute_result"
    }
   ],
   "source": [
    "class employee:\n",
    "    def __init__(self,name,age,salary):\n",
    "        self.name=name\n",
    "        self.age=age\n",
    "        self.salary=salary\n",
    "details=employee('venkatesh',26,30000.00)\n",
    "details.salary"
   ]
  },
  {
   "cell_type": "code",
   "execution_count": 50,
   "metadata": {},
   "outputs": [
    {
     "data": {
      "text/plain": [
       "30000.0"
      ]
     },
     "execution_count": 50,
     "metadata": {},
     "output_type": "execute_result"
    }
   ],
   "source": [
    "getattr(details,'salary')"
   ]
  },
  {
   "cell_type": "code",
   "execution_count": 51,
   "metadata": {},
   "outputs": [],
   "source": [
    "setattr(details,'salary',55000.0)"
   ]
  },
  {
   "cell_type": "code",
   "execution_count": 52,
   "metadata": {},
   "outputs": [
    {
     "data": {
      "text/plain": [
       "55000.0"
      ]
     },
     "execution_count": 52,
     "metadata": {},
     "output_type": "execute_result"
    }
   ],
   "source": [
    "getattr(details,'salary')"
   ]
  },
  {
   "cell_type": "code",
   "execution_count": null,
   "metadata": {},
   "outputs": [],
   "source": [
    "print(hasattr(details,'salary'))"
   ]
  },
  {
   "cell_type": "code",
   "execution_count": 58,
   "metadata": {},
   "outputs": [],
   "source": [
    "delattr(details,'age')"
   ]
  },
  {
   "cell_type": "code",
   "execution_count": 59,
   "metadata": {},
   "outputs": [
    {
     "ename": "AttributeError",
     "evalue": "'employee' object has no attribute 'age'",
     "output_type": "error",
     "traceback": [
      "\u001b[1;31m---------------------------------------------------------------------------\u001b[0m",
      "\u001b[1;31mAttributeError\u001b[0m                            Traceback (most recent call last)",
      "\u001b[1;32m<ipython-input-59-f7f5e3d7d2ea>\u001b[0m in \u001b[0;36m<module>\u001b[1;34m\u001b[0m\n\u001b[1;32m----> 1\u001b[1;33m \u001b[0mgetattr\u001b[0m\u001b[1;33m(\u001b[0m\u001b[0mdetails\u001b[0m\u001b[1;33m,\u001b[0m\u001b[1;34m'age'\u001b[0m\u001b[1;33m)\u001b[0m\u001b[1;33m\u001b[0m\u001b[1;33m\u001b[0m\u001b[0m\n\u001b[0m",
      "\u001b[1;31mAttributeError\u001b[0m: 'employee' object has no attribute 'age'"
     ]
    }
   ],
   "source": [
    "getattr(details,'age')"
   ]
  },
  {
   "cell_type": "code",
   "execution_count": 60,
   "metadata": {},
   "outputs": [],
   "source": [
    "setattr(details,'age',24)"
   ]
  },
  {
   "cell_type": "code",
   "execution_count": 61,
   "metadata": {},
   "outputs": [
    {
     "data": {
      "text/plain": [
       "24"
      ]
     },
     "execution_count": 61,
     "metadata": {},
     "output_type": "execute_result"
    }
   ],
   "source": [
    "getattr(details,'age')"
   ]
  },
  {
   "cell_type": "code",
   "execution_count": 15,
   "metadata": {},
   "outputs": [
    {
     "name": "stdout",
     "output_type": "stream",
     "text": [
      "my name is  venkatesh\n",
      "my age is  26\n",
      "my salary is  33000.0\n"
     ]
    }
   ],
   "source": [
    "details.details()"
   ]
  },
  {
   "cell_type": "code",
   "execution_count": null,
   "metadata": {},
   "outputs": [],
   "source": []
  },
  {
   "cell_type": "code",
   "execution_count": 57,
   "metadata": {},
   "outputs": [
    {
     "name": "stdout",
     "output_type": "stream",
     "text": [
      "True\n"
     ]
    }
   ],
   "source": [
    "print(hasattr(details,'salary'))"
   ]
  },
  {
   "cell_type": "code",
   "execution_count": 6,
   "metadata": {},
   "outputs": [
    {
     "data": {
      "text/plain": [
       "'I am public but still waiting'"
      ]
     },
     "execution_count": 6,
     "metadata": {},
     "output_type": "execute_result"
    }
   ],
   "source": [
    "# Encaptulation\n",
    "class A():\n",
    "    def __init__(self):\n",
    "        self.__priv = \"I am private\"\n",
    "        self._prot = \"I am protected\"\n",
    "        self.pub = \"I am public\"\n",
    "b=A()\n",
    "b.pub+' but still waiting'"
   ]
  },
  {
   "cell_type": "code",
   "execution_count": 2,
   "metadata": {},
   "outputs": [
    {
     "name": "stdout",
     "output_type": "stream",
     "text": [
      "apssdc guntur\n",
      "APSSDC GUNTUR\n"
     ]
    }
   ],
   "source": [
    "class Problem:\n",
    "    def __init__(self):\n",
    "        pass\n",
    "    def getString(self):\n",
    "        self.s=input()\n",
    "    def printString(self):\n",
    "        print(self.s.upper())\n",
    "obj=Problem()\n",
    "obj.getString()\n",
    "obj.printString()"
   ]
  },
  {
   "cell_type": "code",
   "execution_count": 18,
   "metadata": {},
   "outputs": [
    {
     "name": "stdout",
     "output_type": "stream",
     "text": [
      "100\n",
      "[0, 7, 14, 21, 28, 35, 42, 49, 56, 63, 70, 77, 84, 91, 98]\n"
     ]
    }
   ],
   "source": [
    "class Test:\n",
    "    def generator(self,n):\n",
    "        return [i for i in range(n) if i%7==0]\n",
    "n = int(input())\n",
    "num = Test()\n",
    "lst = num.generator(n)\n",
    "print(lst)"
   ]
  },
  {
   "cell_type": "code",
   "execution_count": 19,
   "metadata": {},
   "outputs": [
    {
     "name": "stdout",
     "output_type": "stream",
     "text": [
      "America\n",
      "America\n"
     ]
    }
   ],
   "source": [
    "class American(object):\n",
    "    @staticmethod\n",
    "    def printNationality():\n",
    "        print (\"America\")\n",
    "anAmerican = American()\n",
    "anAmerican.printNationality()\n",
    "American.printNationality()"
   ]
  },
  {
   "cell_type": "code",
   "execution_count": 20,
   "metadata": {},
   "outputs": [
    {
     "name": "stdout",
     "output_type": "stream",
     "text": [
      "<__main__.American object at 0x00000188FE586978>\n",
      "<__main__.NewYorker object at 0x00000188FE4D4400>\n"
     ]
    }
   ],
   "source": [
    "class American(object):\n",
    "    pass\n",
    "class NewYorker(American):\n",
    "    pass\n",
    "anAmerican = American()\n",
    "aNewYorker = NewYorker()\n",
    "print(anAmerican)\n",
    "print(aNewYorker)"
   ]
  },
  {
   "cell_type": "code",
   "execution_count": 21,
   "metadata": {},
   "outputs": [
    {
     "name": "stdout",
     "output_type": "stream",
     "text": [
      "12.56\n"
     ]
    }
   ],
   "source": [
    "class Circle(object):\n",
    "    def __init__(self, r):\n",
    "        self.radius = r\n",
    "\n",
    "    def area(self):\n",
    "        return self.radius**2*3.14\n",
    "areacircle = Circle(2)\n",
    "print(areacircle.area())\n"
   ]
  },
  {
   "cell_type": "code",
   "execution_count": 23,
   "metadata": {},
   "outputs": [
    {
     "name": "stdout",
     "output_type": "stream",
     "text": [
      "20\n"
     ]
    }
   ],
   "source": [
    "class Rectangle(object):\n",
    "    def __init__(self, l, w):\n",
    "        self.length = l\n",
    "        self.width  = w\n",
    "\n",
    "    def area(self):\n",
    "        return self.length*self.width\n",
    "\n",
    "arearectangle = Rectangle(2,10)\n",
    "print(arearectangle.area())"
   ]
  },
  {
   "cell_type": "code",
   "execution_count": null,
   "metadata": {},
   "outputs": [],
   "source": []
  },
  {
   "cell_type": "code",
   "execution_count": null,
   "metadata": {},
   "outputs": [],
   "source": []
  }
 ],
 "metadata": {
  "kernelspec": {
   "display_name": "Python 3",
   "language": "python",
   "name": "python3"
  },
  "language_info": {
   "codemirror_mode": {
    "name": "ipython",
    "version": 3
   },
   "file_extension": ".py",
   "mimetype": "text/x-python",
   "name": "python",
   "nbconvert_exporter": "python",
   "pygments_lexer": "ipython3",
   "version": "3.7.3"
  }
 },
 "nbformat": 4,
 "nbformat_minor": 2
}
