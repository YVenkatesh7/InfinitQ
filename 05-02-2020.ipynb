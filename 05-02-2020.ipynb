{
 "cells": [
  {
   "cell_type": "code",
   "execution_count": null,
   "metadata": {},
   "outputs": [],
   "source": [
    "# regular expressions: string pattern matching\n"
   ]
  },
  {
   "cell_type": "code",
   "execution_count": 2,
   "metadata": {},
   "outputs": [
    {
     "data": {
      "text/plain": [
       "[]"
      ]
     },
     "execution_count": 2,
     "metadata": {},
     "output_type": "execute_result"
    }
   ],
   "source": [
    "import re\n",
    "a='welcome to the apssdc workshop on python'\n",
    "b=re.findall('thn',a)\n",
    "b"
   ]
  },
  {
   "cell_type": "code",
   "execution_count": 3,
   "metadata": {},
   "outputs": [
    {
     "data": {
      "text/plain": [
       "['3', '6']"
      ]
     },
     "execution_count": 3,
     "metadata": {},
     "output_type": "execute_result"
    }
   ],
   "source": [
    "a='advance python workshop 3 days and 6 days'\n",
    "b=re.findall('\\d',a)\n",
    "b"
   ]
  },
  {
   "cell_type": "code",
   "execution_count": 4,
   "metadata": {},
   "outputs": [
    {
     "name": "stdout",
     "output_type": "stream",
     "text": [
      "enter a phone number:9876543214\n",
      "9876543214 valid number\n"
     ]
    }
   ],
   "source": [
    "a=input('enter a phone number:')\n",
    "p='^[987][0-9]{9}$'\n",
    "if re.search(p,a):\n",
    "    print(a,'valid number')\n",
    "else:\n",
    "    print(a,'invalid number')"
   ]
  },
  {
   "cell_type": "code",
   "execution_count": 5,
   "metadata": {},
   "outputs": [
    {
     "name": "stdout",
     "output_type": "stream",
     "text": [
      "valid phone numbers are: ['8765904321', '7872878281', '9876661551']\n",
      "invalid phone numbers are ['621681218', '78583212', '1425562711']\n"
     ]
    }
   ],
   "source": [
    "l=['621681218','8765904321','7872878281',\n",
    "  '78583212','1425562711','9876661551']\n",
    "vl,ivl=[],[]\n",
    "for i in l:\n",
    "    if re.search('^[987][0-9]{9}$',i):\n",
    "        vl.append(i)\n",
    "    else:\n",
    "        ivl.append(i)\n",
    "print('valid phone numbers are:',vl)\n",
    "print('invalid phone numbers are',ivl)"
   ]
  },
  {
   "cell_type": "code",
   "execution_count": null,
   "metadata": {},
   "outputs": [],
   "source": []
  }
 ],
 "metadata": {
  "kernelspec": {
   "display_name": "Python 3",
   "language": "python",
   "name": "python3"
  },
  "language_info": {
   "codemirror_mode": {
    "name": "ipython",
    "version": 3
   },
   "file_extension": ".py",
   "mimetype": "text/x-python",
   "name": "python",
   "nbconvert_exporter": "python",
   "pygments_lexer": "ipython3",
   "version": "3.7.3"
  }
 },
 "nbformat": 4,
 "nbformat_minor": 2
}
